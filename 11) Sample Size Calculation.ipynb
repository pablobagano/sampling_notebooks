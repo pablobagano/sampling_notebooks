{
 "cells": [
  {
   "cell_type": "markdown",
   "id": "c8822d03-ebeb-4762-a06b-6919906759bd",
   "metadata": {},
   "source": [
    "# <font color='red'>Chapter: Sample Size Calculation</font>\n",
    "\n",
    "## <font color='green'>Introduction to Sample Size Calculation</font>\n",
    "\n",
    "Determining the correct sample size is one of the most critical steps in research and experimentation. A properly calculated sample size ensures that:\n",
    "- Results are statistically reliable.\n",
    "- Resources are utilized efficiently.\n",
    "- Over-sampling or under-sampling errors are avoided.\n",
    "\n",
    "### **Key Parameters in Sample Size Calculation**:\n",
    "1. **Confidence Level ($\\alpha$)**: The probability of results being within a specified range (e.g., 95%).\n",
    "2. **Margin of Error ($E$)**: The maximum acceptable difference between the sample estimate and the true population parameter.\n",
    "3. **Variability ($\\sigma$ or $p$)**: The distribution of the population or proportion of interest.\n",
    "4. **Population Size ($N$)**: Total number of individuals in the target group.\n",
    "\n",
    "### **Why It Matters**:\n",
    "- **Under-sampling**: Leads to results that are not representative.\n",
    "- **Over-sampling**: Wastes resources without significant gains in precision.\n"
   ]
  },
  {
   "cell_type": "markdown",
   "id": "6d1b34c3-ce18-4e57-8cd3-9837519b5b66",
   "metadata": {},
   "source": [
    "## <font color='green'>Formulas for Sample Size Calculation</font>\n",
    "\n",
    "### **1. Sample Size for Proportions**:\n",
    "$$ n = \\frac{z^2 \\cdot p \\cdot (1 - p)}{E^2} $$\n",
    "\n",
    "Where:\n",
    "- $z$: Z-value for the desired confidence level (e.g., 1.96 for 95%).\n",
    "- $p$: Estimated proportion in the population.\n",
    "- $1 - p$: Complement of $p$.\n",
    "- $E$: Margin of error.\n",
    "\n",
    "### **2. Sample Size for Means**:\n",
    "$$ n = \\frac{z^2 \\cdot \\sigma^2}{E^2} $$\n",
    "\n",
    "Where:\n",
    "- $\\sigma$: Standard deviation of the population.\n",
    "\n",
    "### **3. Finite Population Adjustment**:\n",
    "If the population size is finite:\n",
    "$$ n_{adj} = \\frac{n}{1 + \\frac{n - 1}{N}} $$\n",
    "\n",
    "Where:\n",
    "- $N$: Total population size.\n",
    "\n",
    "### **4. When Standard Deviation is Unknown**:\n",
    "Approximate $\\sigma$ using pilot studies or historical data.\n"
   ]
  },
  {
   "cell_type": "markdown",
   "id": "c6769844-c3b6-42fe-a669-107b25622970",
   "metadata": {},
   "source": [
    "## <font color='red'>Cohen's d and Effect Size</font>\n",
    "\n",
    "### <font color='green'>Definition:</font>\n",
    "Cohen's $d$ is a standardized measure that quantifies the magnitude of the difference between two means. It is widely used in hypothesis testing, particularly for determining effect sizes in A/B testing and other experimental designs. It provides a scale-free way to interpret the strength of a difference, making results comparable across studies.\n",
    "\n",
    "---\n",
    "\n",
    "### <font color='green'>Formula:</font>\n",
    "$$ d = \\frac{\\overline{X}_1 - \\overline{X}_2}{\\sigma} $$\n",
    "\n",
    "#### Where:\n",
    "- $ \\overline{X}_1, \\overline{X}_2 $: Mean values of the two groups being compared.\n",
    "- $ \\sigma $: Pooled standard deviation of the population, which represents the variability across both groups.\n",
    "\n",
    "This formula assumes the variances between the groups are similar and the samples are drawn independently.\n",
    "\n",
    "---\n",
    "\n",
    "### <font color='green'>Effect Size Interpretation:</font>\n",
    "Effect sizes are categorized into levels based on the $d$ value:\n",
    "\n",
    "- **Small Effect:** $d = 0.2$  \n",
    "  Indicates a subtle difference between the groups.\n",
    "- **Medium Effect:** $d = 0.5$  \n",
    "  Suggests a moderate difference.\n",
    "- **Large Effect:** $d = 0.8$  \n",
    "  Highlights a substantial difference.\n",
    "\n",
    "These thresholds help assess whether the observed differences are practically meaningful or statistically significant.\n",
    "\n",
    "---\n",
    "\n",
    "### <font color='green'>Role in Sample Size Calculation:</font>\n",
    "Cohen's $d$ directly influences the required sample size for experiments. Larger effect sizes generally require smaller sample sizes to detect statistically significant differences, while smaller effect sizes demand larger samples to achieve sufficient power.\n",
    "\n",
    "#### Why Cohen's $d$ Matters in A/B Testing:\n",
    "- **Context of the Test:** Cohen's $d$ helps define the minimum detectable effect (MDE), which determines the smallest effect size that the experiment is designed to detect.  \n",
    "- **Practical Application:** In real-world A/B testing, understanding $d$ ensures that the experiment is neither underpowered (leading to inconclusive results) nor overpowered (wasting resources).\n",
    "\n",
    "For example, if an experiment aims to compare the performance of two website designs, a large $d$ might indicate a significant visual improvement, while a small $d$ might suggest only marginal gains.\n",
    "\n",
    "---\n",
    "\n",
    "### <font color='green'>Worked Example:</font>\n",
    "Suppose you’re comparing the test scores of two classes after introducing a new teaching method. The mean scores are:\n",
    "- Class A (control): $ \\overline{X}_1 = 70 $\n",
    "- Class B (treatment): $ \\overline{X}_2 = 75 $\n",
    "\n",
    "The pooled standard deviation is $ \\sigma = 10 $.\n",
    "\n",
    "Using Cohen’s $d$:  \n",
    "$$ d = \\frac{\\overline{X}_2 - \\overline{X}_1}{\\sigma} = \\frac{75 - 70}{10} = 0.5 $$\n",
    "\n",
    "This $d$-value represents a medium effect, indicating that the teaching method has a moderate impact on improving test scores.\n",
    "\n",
    "---\n"
   ]
  },
  {
   "cell_type": "markdown",
   "id": "41567bbe-1969-4ea3-9301-9fe5467df243",
   "metadata": {},
   "source": [
    "## <font color='green'>Relative vs. Absolute Lift</font>\n",
    "\n",
    "### **Relative Lift**:\n",
    "- **Formula**:  \n",
    "  $$ p_2 = p_1 \\cdot (1 + \\text{Relative Lift}) $$\n",
    "\n",
    "- **When to Use**:  \n",
    "  - Proportional improvements matter.\n",
    "  - Comparisons across varied baselines.\n",
    "\n",
    "### **Absolute Lift**:\n",
    "- **Formula**:  \n",
    "  $$ p_2 = p_1 + \\text{Absolute Lift} $$\n",
    "\n",
    "- **When to Use**:  \n",
    "  - Focused on fixed numerical goals.\n",
    "  - Practical significance is crucial.\n",
    "\n",
    "### **Key Considerations**:\n",
    "- Baseline proportion ($p_1$).\n",
    "- Stakeholder goals.\n",
    "- Purpose of the experiment.\n"
   ]
  },
  {
   "cell_type": "markdown",
   "id": "73142e7b-219d-4940-9639-582d848a2599",
   "metadata": {},
   "source": [
    "## <font color='green'>Sample Size Calculation for A/B Tests</font>\n",
    "\n",
    "### **Formula**:\n",
    "$$\n",
    "n = \\frac{(z_{\\alpha/2} + z_{\\beta})^2 \\cdot [p_1 \\cdot (1 - p_1) + p_2 \\cdot (1 - p_2)]}{(p_2 - p_1)^2}\n",
    "$$\n",
    "\n",
    "Where:\n",
    "- $z_{\\alpha/2}$: Z-value for the chosen confidence level.\n",
    "- $z_{\\beta}$: Z-value for the chosen power.\n",
    "- $p_1$: Baseline proportion.\n",
    "- $p_2$: Expected proportion (based on lift or absolute difference).\n",
    "- $p_2 - p_1$: Minimum detectable effect (MDE).\n",
    "\n",
    "### **Applications**:\n",
    "- Website optimization.\n",
    "- Marketing experiments.\n",
    "- Product feature testing.\n"
   ]
  },
  {
   "cell_type": "markdown",
   "id": "6ee67af1-6561-48cd-8c78-de9af29da25a",
   "metadata": {},
   "source": [
    "### <font color='red'>Cohen's d in the Context of A/B Testing</font>\n",
    "\n",
    "#### <font color='green'>Definition</font>\n",
    "Cohen's $d$ measures the magnitude of the difference between two means relative to the standard deviation of the population. It plays a key role in understanding the effect size, which directly influences the required sample size in A/B testing.\n",
    "\n",
    "#### <font color='green'>Formula</font>\n",
    "$$\n",
    "d = \\frac{\\bar{X}_1 - \\bar{X}_2}{\\sigma}\n",
    "$$\n",
    "\n",
    "Where:\n",
    "- $ \\bar{X}_1, \\bar{X}_2 $: Means of the two groups (e.g., test and control groups).\n",
    "- $ \\sigma $: Standard deviation of the population.\n",
    "\n",
    "#### <font color='green'>Effect Size and Sample Size</font>\n",
    "Cohen's $d$ determines the effect size, which impacts the sample size required to achieve a certain confidence level and statistical power in A/B testing:\n",
    "- **Small Effect Size ($d = 0.2$)**: Small difference between groups, requiring a larger sample size to detect the effect.\n",
    "- **Medium Effect Size ($d = 0.5$)**: Moderate difference, reducing the sample size compared to small effects.\n",
    "- **Large Effect Size ($d = 0.8$)**: Significant difference, allowing for smaller sample sizes.\n",
    "\n",
    "#### <font color='green'>Connection to A/B Tests</font>\n",
    "In A/B testing, Cohen's $d$ is typically used for comparing two means (e.g., average purchase amounts). However, for proportions (e.g., conversion rates), the **z-test formula for proportions** is preferred. The effect size directly influences the Minimum Detectable Effect (MDE), baseline proportion ($p_1$), and target proportion ($p_2$).\n",
    "\n",
    "#### <font color='green'>Relationship Between Cohen's $d$ and Sample Size</font>\n",
    "- **Effect Size $d$** helps define the **Minimum Detectable Effect (MDE)**.\n",
    "- The MDE, along with baseline ($p_1$) and target ($p_2$) proportions, determines the sample size required for a test with specified confidence and power levels.\n",
    "\n",
    "#### <font color='green'>Applications in A/B Tests</font>\n",
    "- Conversion rate optimization (e.g., clicks, sign-ups).\n",
    "- Comparison of average metrics (e.g., revenue per user).\n",
    "- Estimating the minimum number of samples required for meaningful results.\n",
    "\n",
    "This understanding of Cohen's $d$ ensures that tests are neither underpowered (risking missed effects) nor overpowered (wasting resources).\n"
   ]
  },
  {
   "cell_type": "markdown",
   "id": "0b999347-49df-4427-9368-ef91ccb52026",
   "metadata": {},
   "source": [
    "## <font color='green'>Real-World Applications</font>\n",
    "\n",
    "1. **Election Polling**: Estimating proportions for a population with a known size.\n",
    "2. **Clinical Trials**: Determining sample size for testing drug efficacy.\n",
    "3. **Marketing Campaigns**: Calculating sample size for A/B testing in email campaigns.\n"
   ]
  },
  {
   "cell_type": "markdown",
   "id": "2d9feae7-deaf-441a-a4bb-9a3f7eda25a7",
   "metadata": {},
   "source": [
    "# <font color='red'>Exercises for Practice</font>"
   ]
  },
  {
   "cell_type": "markdown",
   "id": "d65b5247-fa06-4d6d-86fb-e505b7c5b133",
   "metadata": {},
   "source": [
    "## <font color='green'>Calculate Cohen's $d$</font>\n",
    "\n",
    "**Two groups of users interacted with different versions of a website. Their average time spent on the website was recorded:** \n",
    "\n",
    "- Group 1: $\\bar{X}_1 = 5.2$ minutes\n",
    "- Group 2: $\\bar{X}_2 = 4.3$ minutes\n",
    "- Standard deviation across both groups: $\\sigma = 1.8$\n",
    "\n",
    "Using the formula for Cohen's $d$, calculate the effect size and interpret it."
   ]
  },
  {
   "cell_type": "code",
   "execution_count": 20,
   "id": "9b86ab95-e879-48ac-84c4-3411d6c30d98",
   "metadata": {},
   "outputs": [
    {
     "name": "stdout",
     "output_type": "stream",
     "text": [
      "Cohen's d: 0.50\n",
      "Effect size is medium.\n"
     ]
    }
   ],
   "source": [
    "# Parameters\n",
    "mean_1 = 5.2\n",
    "mean_2 = 4.3\n",
    "std_dev = 1.8\n",
    "\n",
    "# Calculate Cohen's d\n",
    "cohens_d = (mean_1 - mean_2) / std_dev\n",
    "print(f\"Cohen's d: {cohens_d:.2f}\")\n",
    "# Interpretation\n",
    "if cohens_d < 0.2:\n",
    "    print(\"Effect size is negligible.\")\n",
    "elif cohens_d < 0.5:\n",
    "    print(\"Effect size is small.\")\n",
    "elif cohens_d < 0.8:\n",
    "    print(\"Effect size is medium.\")\n",
    "else:\n",
    "    print(\"Effect size is large.\")\n"
   ]
  },
  {
   "cell_type": "markdown",
   "id": "559b18f8-8c73-46f0-a5d9-5f623b7f4018",
   "metadata": {},
   "source": [
    "## <font color='green'>Determine Sample Size for Proportion Comparison</font>\n",
    "\n",
    "**You want to detect a 5% improvement in email sign-ups:** \n",
    "\n",
    "- Baseline proportion: $p_1 = 0.20$\n",
    "- Target proportion: $p_2 = 0.25$\n",
    "- Confidence level: 95% ($z_{\\alpha/2} = 1.96$)\n",
    "- Power: 80% ($z_\\beta = 0.84$)\n",
    "\n",
    "Calculate the sample size required for this A/B test."
   ]
  },
  {
   "cell_type": "code",
   "execution_count": 36,
   "id": "4a873b78-b23d-426a-821d-f69ca8f52ef7",
   "metadata": {},
   "outputs": [
    {
     "name": "stdout",
     "output_type": "stream",
     "text": [
      "Required sample size per group: 547\n"
     ]
    }
   ],
   "source": [
    "from math import ceil\n",
    "\n",
    "# Parameters\n",
    "p1 = 0.20\n",
    "p2 = 0.25\n",
    "z_alpha = 1.96\n",
    "z_beta = 0.84\n",
    "\n",
    "# Minimum detectable effect (MDE)\n",
    "mde = p2 - p1\n",
    "\n",
    "# Calculate sample size\n",
    "pooled_p = (p1 + p2) / 2\n",
    "n = ((z_alpha + z_beta)**2 * (pooled_p * (1 - pooled_p))) / (mde**2)\n",
    "sample_size = ceil(n)\n",
    "\n",
    "print(f\"Required sample size per group: {sample_size}\")\n"
   ]
  },
  {
   "cell_type": "markdown",
   "id": "8014e395-1c65-493c-ac37-7b6ed3d5d3e7",
   "metadata": {},
   "source": [
    "## <font color='green'>Calculate Sample Size for Relative Lift</font>\n",
    "\n",
    "**An e-commerce platform wants to test a new feature that they estimate will improve the conversion rate by 15%. Given:** \n",
    "\n",
    "- Baseline proportion: $p_1 = 0.10$\n",
    "- Relative lift: 15% (i.e., $p_2 = p_1 \\cdot (1 + 0.15)$)\n",
    "- Confidence level: 95% ($z_{\\alpha/2} = 1.96$)\n",
    "- Power: 90% ($z_\\beta = 1.28$)\n",
    "\n",
    "Determine the sample size required to run this test."
   ]
  },
  {
   "cell_type": "code",
   "execution_count": 38,
   "id": "f39750d9-c099-4aa0-b65a-0e87fc0fcd09",
   "metadata": {},
   "outputs": [
    {
     "name": "stdout",
     "output_type": "stream",
     "text": [
      "Required sample size per group: 4477\n"
     ]
    }
   ],
   "source": [
    "# Parameters\n",
    "p1 = 0.10\n",
    "relative_lift = 0.15\n",
    "p2 = p1 * (1 + relative_lift)\n",
    "z_alpha = 1.96\n",
    "z_beta = 1.28\n",
    "\n",
    "# Minimum detectable effect (MDE)\n",
    "mde = p2 - p1\n",
    "\n",
    "# Calculate sample size\n",
    "pooled_p = (p1 + p2) / 2\n",
    "n = ((z_alpha + z_beta)**2 * (pooled_p * (1 - pooled_p))) / (mde**2)\n",
    "sample_size = ceil(n)\n",
    "\n",
    "print(f\"Required sample size per group: {sample_size}\")\n"
   ]
  },
  {
   "cell_type": "markdown",
   "id": "2b73f898-6720-4ad1-8415-f079797e49d3",
   "metadata": {},
   "source": [
    "## <font color='green'>Effect Size Interpretation</font>\n",
    "\n",
    "**Given the following effect sizes for Cohen's $d$, categorize them as small, medium, or large:** \n",
    "\n",
    "- $d = 0.15$\n",
    "- $d = 0.45$\n",
    "- $d = 0.90$\n",
    "\n",
    "Explain how the sample size required would differ for each."
   ]
  },
  {
   "cell_type": "code",
   "execution_count": 40,
   "id": "020d4ecc-92fc-4543-b091-6bef05f763d4",
   "metadata": {},
   "outputs": [
    {
     "name": "stdout",
     "output_type": "stream",
     "text": [
      "Cohen's d: 0.15 - Small effect\n",
      "Cohen's d: 0.45 - Medium effect\n",
      "Cohen's d: 0.9 - Large effect\n"
     ]
    }
   ],
   "source": [
    "# Effect sizes\n",
    "effect_sizes = [0.15, 0.45, 0.90]\n",
    "categories = []\n",
    "\n",
    "for d in effect_sizes:\n",
    "    if d < 0.2:\n",
    "        categories.append(\"Small effect\")\n",
    "    elif d < 0.5:\n",
    "        categories.append(\"Medium effect\")\n",
    "    else:\n",
    "        categories.append(\"Large effect\")\n",
    "\n",
    "# Display results\n",
    "for i, d in enumerate(effect_sizes):\n",
    "    print(f\"Cohen's d: {d} - {categories[i]}\")\n"
   ]
  },
  {
   "cell_type": "markdown",
   "id": "a3bc760d-c218-480c-8cd6-8aa7f7d3efd2",
   "metadata": {},
   "source": [
    "## <font color='green'>Calculate Confidence Interval for Conversion Rates</font>\n",
    "\n",
    "**A/B test results for a sign-up page show:** \n",
    "\n",
    "- Sample size: $n = 800$\n",
    "- Conversion rate: $\\hat{p} = 0.18$\n",
    "- Confidence level: 95% ($z_{\\alpha/2} = 1.96$)\n",
    "\n",
    "Calculate the confidence interval for the conversion rate."
   ]
  },
  {
   "cell_type": "code",
   "execution_count": 42,
   "id": "b9b27d4b-007d-414c-9c88-ecd535b2ab33",
   "metadata": {},
   "outputs": [
    {
     "name": "stdout",
     "output_type": "stream",
     "text": [
      "Confidence Interval: [0.153, 0.207]\n"
     ]
    }
   ],
   "source": [
    "# Parameters\n",
    "n = 800\n",
    "p_hat = 0.18\n",
    "z_alpha = 1.96\n",
    "\n",
    "# Calculate margin of error\n",
    "margin_error = z_alpha * ((p_hat * (1 - p_hat)) / n)**0.5\n",
    "\n",
    "# Confidence interval\n",
    "lower_bound = p_hat - margin_error\n",
    "upper_bound = p_hat + margin_error\n",
    "\n",
    "print(f\"Confidence Interval: [{lower_bound:.3f}, {upper_bound:.3f}]\")\n"
   ]
  },
  {
   "cell_type": "code",
   "execution_count": null,
   "id": "b73f2e5e-26de-463c-99aa-009390f72212",
   "metadata": {},
   "outputs": [],
   "source": []
  }
 ],
 "metadata": {
  "kernelspec": {
   "display_name": "Python 3 (ipykernel)",
   "language": "python",
   "name": "python3"
  },
  "language_info": {
   "codemirror_mode": {
    "name": "ipython",
    "version": 3
   },
   "file_extension": ".py",
   "mimetype": "text/x-python",
   "name": "python",
   "nbconvert_exporter": "python",
   "pygments_lexer": "ipython3",
   "version": "3.12.4"
  }
 },
 "nbformat": 4,
 "nbformat_minor": 5
}
