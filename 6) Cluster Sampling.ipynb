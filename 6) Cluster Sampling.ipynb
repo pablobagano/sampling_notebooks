{
 "cells": [
  {
   "cell_type": "markdown",
   "id": "1d16571a-90d9-46c6-8996-676f81471032",
   "metadata": {},
   "source": [
    "# <font color='red'>Chapter 6: Cluster Sampling</font>\n",
    "\n",
    "## <font color='green'>6.1 Introduction to Cluster Sampling</font>\n",
    "\n",
    "Cluster sampling is a method where the population is divided into groups, known as **clusters**, and a sample of these clusters is selected to represent the population. This method is commonly used when a complete list of the population is unavailable, but natural groups or clusters exist. For example, schools in a district, neighborhoods in a city, or branches of a company.\n",
    "\n",
    "### Key Characteristics:\n",
    "- The population is divided into **non-overlapping groups** (clusters).\n",
    "- Clusters are selected randomly, and either all elements within selected clusters are surveyed (**one-stage cluster sampling**) or a random sample is taken from within the selected clusters (**two-stage cluster sampling**).\n",
    "- The method assumes clusters are representative of the population as a whole.\n"
   ]
  },
  {
   "cell_type": "markdown",
   "id": "6d15d3c4-a56b-42ed-9a96-f4c1c0ba6513",
   "metadata": {},
   "source": [
    "### <font color='green'>One-Stage Cluster Sampling</font>\n",
    "\n",
    "In one-stage cluster sampling, **all elements** within the randomly selected clusters are included in the sample. This method is suitable when the clusters are internally homogeneous and the cost or effort to survey entire clusters is reasonable.  \n",
    "\n",
    "### Key Points:\n",
    "- **Advantage**: Simplicity, as it avoids additional sampling within clusters.  \n",
    "- **Limitation**: Risk of bias if clusters do not represent the population accurately.\n"
   ]
  },
  {
   "cell_type": "markdown",
   "id": "d72b796e-fa46-499b-98c5-7595c5680e21",
   "metadata": {},
   "source": [
    "### <font color='green'>Two-Stage Cluster Sampling</font>\n",
    "\n",
    "In two-stage cluster sampling, a **random sample** of elements is taken from within the randomly selected clusters. This method is used when clusters are large or internally heterogeneous, and it is impractical to survey all elements.  \n",
    "\n",
    "### Key Points:\n",
    "- **Advantage**: Greater control over sample size and cost.  \n",
    "- **Limitation**: Increased complexity and potential for sampling error within clusters.\n"
   ]
  },
  {
   "cell_type": "markdown",
   "id": "2ab4433d-b842-4bd6-bb13-95c9ebbb4cab",
   "metadata": {},
   "source": [
    "### <font color='blue'>Example 1: Surveying Students in a District</font>\n",
    "\n",
    "A researcher wants to estimate the average test score for all students in a district. Instead of surveying every student, the researcher randomly selects 10 schools (clusters) and surveys all students within those schools.\n"
   ]
  },
  {
   "cell_type": "markdown",
   "id": "8656fc84-0872-4145-8020-59724acac5fd",
   "metadata": {},
   "source": [
    "### <font color='blue'>Example 2: Analyzing Customer Satisfaction</font>\n",
    "\n",
    "A retail company with 100 stores (clusters) wants to assess customer satisfaction. They randomly select 15 stores and survey either:  \n",
    "- **One-stage sampling**: All customers visiting those stores.  \n",
    "- **Two-stage sampling**: A random sample of customers visiting those stores.\n"
   ]
  },
  {
   "cell_type": "markdown",
   "id": "ba9e313a-260e-425b-bd9d-4395fdc8cc0a",
   "metadata": {},
   "source": [
    "## <font color='green'>6.2 Advantages and Limitations</font>\n",
    "\n",
    "### Advantages:\n",
    "1. **Cost and Time Efficient**: Easier to implement when the population is spread out geographically.  \n",
    "2. **Practical**: Requires fewer resources compared to other methods, such as stratified sampling.  \n",
    "3. **Simplifies Data Collection**: Clusters can act as naturally occurring groups.  \n",
    "\n",
    "### Limitations:\n",
    "1. **Risk of High Variability**: Clusters may not always represent the population accurately.  \n",
    "2. **Bias Risk**: If clusters are not homogeneous, estimates may be less precise.\n"
   ]
  },
  {
   "cell_type": "markdown",
   "id": "184afb17-0fdf-415d-99d3-17fb5c966f26",
   "metadata": {},
   "source": [
    "## <font color='green'>6.4 Estimation in Cluster Sampling</font>\n",
    "\n",
    "### Estimator for the Mean:\n",
    "$$\n",
    "\\bar{y} = \\frac{\\sum_{i=1}^m \\bar{y}_i}{m}\n",
    "$$\n",
    "Where:\n",
    "- $ \\bar{y}_i $: Sample mean for the $ i^{th} $ cluster.\n",
    "- $ m $: Number of clusters sampled.\n",
    "\n",
    "### Estimator for the Total:\n",
    "$$\n",
    "\\hat{T} = N_c \\cdot \\bar{y}\n",
    "$$\n",
    "Where:\n",
    "- $ N_c $: Total number of clusters.\n",
    "\n",
    "### Variance of the Mean:\n",
    "$$\n",
    "\\text{Var}(\\bar{y}) = \\frac{S_c^2}{m}\n",
    "$$\n",
    "Where:\n",
    "- $ S_c^2 $: Variance between clusters.\n"
   ]
  },
  {
   "cell_type": "markdown",
   "id": "9d3a0d18-3430-4811-9b43-c0e4b3ea5fa9",
   "metadata": {},
   "source": [
    "## <font color='green'>6.5 Confidence Intervals</font>\n",
    "\n",
    "### Confidence Interval for the Mean:\n",
    "$$\n",
    "CI = \\bar{y} \\pm Z \\cdot \\sqrt{\\frac{S_c^2}{m}}\n",
    "$$\n",
    "\n",
    "### Confidence Interval for the Total:\n",
    "$$\n",
    "CI = \\hat{T} \\pm Z \\cdot N_c \\cdot \\sqrt{\\frac{S_c^2}{m}}\n",
    "$$\n"
   ]
  },
  {
   "cell_type": "markdown",
   "id": "649018eb-134a-459d-acce-213415d2f775",
   "metadata": {},
   "source": [
    "## <font color='green'>6.6 Example: One-Stage Cluster Sampling</font>\n",
    "\n",
    "### Problem:\n",
    "A company wants to survey employee satisfaction across 50 branches (clusters). They randomly select 10 branches and survey all employees within those branches. The average satisfaction score for the surveyed branches is 8.2, and the variance between branch scores is 1.5.  \n",
    "\n",
    "### Solution:\n",
    "1. **Estimator for the Mean**:  \n",
    "   Given $ \\bar{y} = 8.2 $, the population mean estimate is also 8.2.  \n",
    "\n",
    "2. **Confidence Interval**:  \n",
    "   - Variance of the mean: $ \\text{Var}(\\bar{y}) = \\frac{1.5}{10} = 0.15 $  \n",
    "   - Standard error: $ \\sqrt{0.15} = 0.387 $  \n",
    "   - Margin of error: $ 1.96 \\cdot 0.387 = 0.759 $  \n",
    "\n",
    "   Confidence Interval:  \n",
    "   $$\n",
    "   CI = 8.2 \\pm 0.759 \\implies [7.44, 8.96]\n",
    "   $$\n"
   ]
  },
  {
   "cell_type": "code",
   "execution_count": 17,
   "id": "1c4b762d-fac0-4011-b8ed-365282fd3978",
   "metadata": {},
   "outputs": [
    {
     "name": "stdout",
     "output_type": "stream",
     "text": [
      "One-Stage Cluster Sampling (By Hand):\n",
      "Confidence Interval: [7.44, 8.96]\n",
      "\n",
      "One-Stage Cluster Sampling (scipy.stats):\n",
      "Confidence Interval: [7.44, 8.96]\n"
     ]
    }
   ],
   "source": [
    "import math\n",
    "from scipy.stats import norm\n",
    "\n",
    "# Problem: One-Stage Cluster Sampling\n",
    "# Given data\n",
    "mean_score = 8.2                # Sample mean (𝑦̄)\n",
    "variance_between_clusters = 1.5 # Variance between cluster means (S²)\n",
    "num_sampled_clusters = 10       # Number of sampled clusters\n",
    "z_score = norm.ppf(0.975)       # Z-score for 95% confidence level (two-tailed)\n",
    "\n",
    "# By hand:\n",
    "# Step 1: Calculate the variance of the mean\n",
    "variance_mean = variance_between_clusters / num_sampled_clusters\n",
    "\n",
    "# Step 2: Calculate the standard error\n",
    "standard_error = math.sqrt(variance_mean)\n",
    "\n",
    "# Step 3: Calculate the margin of error\n",
    "margin_of_error = z_score * standard_error\n",
    "\n",
    "# Step 4: Compute the confidence interval\n",
    "lower_bound = mean_score - margin_of_error\n",
    "upper_bound = mean_score + margin_of_error\n",
    "\n",
    "print(\"One-Stage Cluster Sampling (By Hand):\")\n",
    "print(f\"Confidence Interval: [{lower_bound:.2f}, {upper_bound:.2f}]\")\n",
    "\n",
    "# Using scipy.stats\n",
    "lower_bound_scipy, upper_bound_scipy = norm.interval(\n",
    "    confidence=0.95, loc=mean_score, scale=standard_error\n",
    ")\n",
    "\n",
    "print(\"\\nOne-Stage Cluster Sampling (scipy.stats):\")\n",
    "print(f\"Confidence Interval: [{lower_bound_scipy:.2f}, {upper_bound_scipy:.2f}]\")\n"
   ]
  },
  {
   "cell_type": "markdown",
   "id": "b374f695-fa27-4ee0-9cf1-af9b071c5f7d",
   "metadata": {},
   "source": [
    "## <font color='green'>6.7 Example: Two-Stage Cluster Sampling</font>\n",
    "\n",
    "### Problem:\n",
    "In the same company example, instead of surveying all employees in selected branches, they randomly survey 5 employees per branch across the 10 selected branches. The sample mean satisfaction score is 8.5, and the variance between branch means is 2.  \n",
    "\n",
    "### Solution:\n",
    "1. **Estimator for the Mean**:  \n",
    "   Given $ \\bar{y} = 8.5 $, the population mean estimate is also 8.5.  \n",
    "\n",
    "2. **Confidence Interval**:  \n",
    "   - Variance of the mean: $ \\text{Var}(\\bar{y}) = \\frac{2}{10} = 0.2 $  \n",
    "   - Standard error: $ \\sqrt{0.2} = 0.447 $  \n",
    "   - Margin of error: $ 1.96 \\cdot 0.447 = 0.876 $  \n",
    "\n",
    "   Confidence Interval:  \n",
    "   $$\n",
    "   CI = 8.5 \\pm 0.876 \\implies [7.62, 9.38]\n",
    "   $$\n"
   ]
  },
  {
   "cell_type": "code",
   "execution_count": 19,
   "id": "25e3cdcf-f238-463c-9dfc-be1e54af856a",
   "metadata": {},
   "outputs": [
    {
     "name": "stdout",
     "output_type": "stream",
     "text": [
      "Two-Stage Cluster Sampling (By Hand):\n",
      "Confidence Interval: [7.62, 9.38]\n",
      "\n",
      "Two-Stage Cluster Sampling (scipy.stats):\n",
      "Confidence Interval: [7.62, 9.38]\n"
     ]
    }
   ],
   "source": [
    "# Problem: Two-Stage Cluster Sampling\n",
    "# Given data\n",
    "mean_score = 8.5                # Sample mean (𝑦̄)\n",
    "variance_between_clusters = 2   # Variance between cluster means (S²)\n",
    "num_sampled_clusters = 10       # Number of sampled clusters\n",
    "z_score = norm.ppf(0.975)       # Z-score for 95% confidence level (two-tailed)\n",
    "\n",
    "# By hand:\n",
    "# Step 1: Calculate the variance of the mean\n",
    "variance_mean = variance_between_clusters / num_sampled_clusters\n",
    "\n",
    "# Step 2: Calculate the standard error\n",
    "standard_error = math.sqrt(variance_mean)\n",
    "\n",
    "# Step 3: Calculate the margin of error\n",
    "margin_of_error = z_score * standard_error\n",
    "\n",
    "# Step 4: Compute the confidence interval\n",
    "lower_bound = mean_score - margin_of_error\n",
    "upper_bound = mean_score + margin_of_error\n",
    "\n",
    "print(\"Two-Stage Cluster Sampling (By Hand):\")\n",
    "print(f\"Confidence Interval: [{lower_bound:.2f}, {upper_bound:.2f}]\")\n",
    "\n",
    "# Using scipy.stats\n",
    "lower_bound_scipy, upper_bound_scipy = norm.interval(\n",
    "    confidence=0.95, loc=mean_score, scale=standard_error\n",
    ")\n",
    "\n",
    "print(\"\\nTwo-Stage Cluster Sampling (scipy.stats):\")\n",
    "print(f\"Confidence Interval: [{lower_bound_scipy:.2f}, {upper_bound_scipy:.2f}]\")\n"
   ]
  },
  {
   "cell_type": "markdown",
   "id": "a7bfb0c0-91b7-4079-83c4-986ca258ee6e",
   "metadata": {},
   "source": [
    "# <font color='red'>Exercises</font> "
   ]
  },
  {
   "cell_type": "markdown",
   "id": "82efed1a-b53a-44f1-824c-b78a1aa938ab",
   "metadata": {},
   "source": [
    "## <font color='green'>Exercise 1: One-Stage Cluster Sampling</font>\n",
    "\n",
    "## <font color='blue'>Problem Statement:</font>\n",
    "A survey is conducted to measure the average commute time of employees across 40 offices (clusters). The survey randomly selects 8 offices, and all employees within these offices report their commute times. The mean commute time for the sampled offices is 45 minutes, and the variance between office means is 16 minutes².\n",
    "\n",
    "**Tasks:**\n",
    "1. Estimate the population mean commute time.  \n",
    "2. Calculate the 95% confidence interval for the population mean.  \n",
    "\n",
    "---\n",
    "\n",
    "### **Hints:**\n",
    "- Use the formula for variance of the mean:\n",
    "$$\n",
    "\\text{Var}(\\bar{y}) = \\frac{S_c^2}{m}\n",
    "$$\n",
    "- Confidence interval for the mean:\n",
    "$$\n",
    "CI = \\bar{y} \\pm Z \\cdot \\sqrt{\\frac{S_c^2}{m}}\n",
    "$$\n",
    "Where:\n",
    "- $ \\bar{y} $: Sample mean (45 minutes).  \n",
    "- $ S_c^2 $: Variance between cluster means (16 minutes²).  \n",
    "- $ m $: Number of sampled clusters (8).  \n",
    "- $ Z $: Z-score for 95% confidence level (1.96).\n"
   ]
  },
  {
   "cell_type": "code",
   "execution_count": 26,
   "id": "4a1174b1-e768-457c-b7a8-ee51e60cbc87",
   "metadata": {},
   "outputs": [],
   "source": [
    "# Solution "
   ]
  },
  {
   "cell_type": "markdown",
   "id": "e9b7b21a-a801-46c6-9d00-11ee054635dd",
   "metadata": {},
   "source": [
    "## <font color='green'>Exercise 2: Two-Stage Cluster Sampling</font>\n",
    "\n",
    "## <font color='blue'>Problem Statement:</font>\n",
    "A company with 60 branches wants to evaluate customer satisfaction. They randomly select 12 branches and survey 10 customers per branch. The average satisfaction score for the sampled branches is 8.4, and the variance between branch means is 2.5.\n",
    "\n",
    "**Tasks:**\n",
    "1. Estimate the population mean satisfaction score.  \n",
    "2. Calculate the 99% confidence interval for the population mean.  \n",
    "\n",
    "---\n",
    "\n",
    "### **Hints:**\n",
    "- Variance of the mean:\n",
    "$$\n",
    "\\text{Var}(\\bar{y}) = \\frac{S_c^2}{m}\n",
    "$$\n",
    "- Confidence interval for the mean:\n",
    "$$\n",
    "CI = \\bar{y} \\pm Z \\cdot \\sqrt{\\frac{S_c^2}{m}}\n",
    "$$\n",
    "Where:\n",
    "- $ \\bar{y} $: Sample mean (8.4).  \n",
    "- $ S_c^2 $: Variance between cluster means (2.5).  \n",
    "- $ m $: Number of sampled clusters (12).  \n",
    "- $ Z $: Z-score for 99% confidence level (use $ Z = 2.576 $).\n"
   ]
  },
  {
   "cell_type": "code",
   "execution_count": 29,
   "id": "dedbce8d-1692-4f23-9a4d-d48b4384efde",
   "metadata": {},
   "outputs": [],
   "source": [
    "# Solution "
   ]
  },
  {
   "cell_type": "code",
   "execution_count": null,
   "id": "6d332c5f-d8f2-44c2-a2c0-b4332b8664ec",
   "metadata": {},
   "outputs": [],
   "source": []
  }
 ],
 "metadata": {
  "kernelspec": {
   "display_name": "Python 3 (ipykernel)",
   "language": "python",
   "name": "python3"
  },
  "language_info": {
   "codemirror_mode": {
    "name": "ipython",
    "version": 3
   },
   "file_extension": ".py",
   "mimetype": "text/x-python",
   "name": "python",
   "nbconvert_exporter": "python",
   "pygments_lexer": "ipython3",
   "version": "3.12.4"
  }
 },
 "nbformat": 4,
 "nbformat_minor": 5
}
