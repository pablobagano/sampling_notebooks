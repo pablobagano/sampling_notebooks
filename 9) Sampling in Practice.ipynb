{
 "cells": [
  {
   "cell_type": "markdown",
   "id": "742cd299-c915-4db1-9fcc-ed42ce97e438",
   "metadata": {},
   "source": [
    "# <font color='red'>Chapter 9: Sampling in Practice</font>\n",
    "\n",
    "## <font color='green'>Introduction to Sampling in Practice</font>\n",
    "\n",
    "Sampling in practice involves applying theoretical knowledge of sampling methods to real-world research scenarios. Unlike controlled environments, real-world sampling must contend with challenges such as resource constraints, logistical hurdles, and ethical considerations. A well-designed sampling plan ensures data collection is efficient, representative, and ethically sound.\n"
   ]
  },
  {
   "cell_type": "markdown",
   "id": "4e7a1089-a015-4dcc-869e-220c526888c5",
   "metadata": {},
   "source": [
    "## <font color='red'>9.1 Designing a Sampling Plan</font>\n",
    "\n",
    "Creating an effective sampling plan requires:\n",
    "\n",
    "1. **Defining the Research Objective**: Clearly articulate what the study aims to achieve.  \n",
    "   - *Example*: Estimating average household income in a region.\n",
    "\n",
    "2. **Understanding the Population**: Identify the population of interest and its structure.  \n",
    "   - *Example*: Households in urban, suburban, and rural areas.\n",
    "\n",
    "3. **Choosing a Sampling Method**: Select a method that aligns with the study's goals and constraints.  \n",
    "   - *Example*: Stratified sampling for proportional representation.\n",
    "\n",
    "4. **Determining Sample Size**: Use statistical methods to calculate the required sample size based on precision and confidence level.\n",
    "\n",
    "5. **Developing Operational Procedures**: Plan how data will be collected, including logistics, tools, and personnel.\n"
   ]
  },
  {
   "cell_type": "markdown",
   "id": "6f9ee2e9-0a07-4139-b000-7611238b0d2d",
   "metadata": {},
   "source": [
    "## <font color='red'>9.2 Addressing Real-World Challenges</font>\n",
    "\n",
    "Sampling in practice faces several challenges:\n",
    "\n",
    "1. **Budget Constraints**: Limited resources may restrict sample size or necessitate cost-effective methods like systematic or convenience sampling.  \n",
    "\n",
    "2. **Time Constraints**: Tight deadlines can force researchers to prioritize speed over precision.\n",
    "\n",
    "3. **Logistical Barriers**: Geographic dispersion, inaccessible populations, or lack of infrastructure can complicate sampling.\n",
    "\n",
    "4. **Response Bias**: Participants may provide inaccurate responses due to social desirability or misunderstanding questions.\n",
    "\n",
    "5. **Nonresponse**: High rates of nonresponse can reduce representativeness and introduce bias.\n",
    "\n",
    "---\n",
    "\n",
    "### <font color='green'>Solutions</font>\n",
    "- Use technology (e.g., online surveys, data collection apps) to reduce costs and streamline operations.\n",
    "- Employ weighting adjustments to correct for nonresponse bias.\n",
    "- Pilot test sampling procedures to identify and mitigate logistical issues.\n"
   ]
  },
  {
   "cell_type": "markdown",
   "id": "dbd4600f-78ab-4ff1-99e3-f4074c6e4745",
   "metadata": {},
   "source": [
    "## <font color='red'>9.3 Ethical Considerations in Sampling</font>\n",
    "\n",
    "Ethics are paramount in any research involving human participants. Ethical sampling practices include:\n",
    "\n",
    "1. **Informed Consent**: Participants must be fully informed about the study's purpose, procedures, risks, and benefits.\n",
    "\n",
    "2. **Confidentiality**: Researchers must protect the privacy of participants and ensure data security.\n",
    "\n",
    "3. **Avoiding Harm**: Minimize potential harm to participants, such as emotional distress or invasion of privacy.\n",
    "\n",
    "4. **Transparency**: Clearly communicate the study's methodology and limitations in reporting results.\n",
    "\n",
    "---\n",
    "\n",
    "### <font color='green'>Case Study</font>\n",
    "A survey on mental health among students ensures:\n",
    "- **Anonymity** of responses to protect privacy.\n",
    "- **Access to counseling resources** for participants experiencing distress.\n"
   ]
  },
  {
   "cell_type": "markdown",
   "id": "fede2db4-057e-4758-b49e-bd51c02aec6f",
   "metadata": {},
   "source": [
    "## <font color='red'>9.4 Case Studies</font>\n",
    "\n",
    "### **1. Household Income Survey**\n",
    "- **Objective**: Estimate average household income in a city.\n",
    "- **Method**: Stratified sampling by socioeconomic status.\n",
    "- **Challenges**: Nonresponse among high-income households.\n",
    "- **Solution**: Use weighting adjustments to correct for underrepresentation.\n",
    "\n",
    "---\n",
    "\n",
    "### **2. Voter Behavior Study**\n",
    "- **Objective**: Predict election outcomes in a region.\n",
    "- **Method**: Multistage sampling of districts, polling stations, and voters.\n",
    "- **Challenges**: Logistic issues in remote areas.\n",
    "- **Solution**: Combine in-person and online data collection methods.\n"
   ]
  },
  {
   "cell_type": "markdown",
   "id": "9da44263-6c80-42a3-8c4f-d73c73934aa5",
   "metadata": {},
   "source": [
    "## <font color='red'>Conclusion</font>\n",
    "\n",
    "Sampling in practice requires balancing theoretical principles with practical constraints. A robust sampling plan accounts for real-world challenges while maintaining ethical standards and methodological rigor. By adapting techniques and leveraging technology, researchers can achieve representative and reliable results in diverse contexts.\n"
   ]
  },
  {
   "cell_type": "markdown",
   "id": "e4024e9b-82f5-413f-ac88-108873713f32",
   "metadata": {
    "jp-MarkdownHeadingCollapsed": true
   },
   "source": [
    "## <font color='green'>Exercise 1: Designing a Sampling Plan</font>\n",
    "\n",
    "### <font color='blue'>Problem</font>\n",
    "\n",
    "A research firm is tasked with estimating the average income of households in a city with 10,000 households. The population can be divided into three regions:\n",
    "- **Urban**: 4,000 households\n",
    "- **Suburban**: 3,000 households\n",
    "- **Rural**: 3,000 households\n",
    "\n",
    "### Tasks:\n",
    "1. Propose a sampling plan using stratified sampling.\n",
    "2. Calculate the required sample size for each region if the total sample size is 500.\n",
    "\n",
    "---\n",
    "\n",
    "## <font color='green'>Solution</font>\n",
    "\n",
    "### 1. Sampling Plan\n",
    "- **Objective**: To estimate the average household income across all regions.\n",
    "- **Sampling Method**: Stratified sampling ensures proportional representation of each region.\n",
    "- **Procedure**:\n",
    "  - Divide the population into strata based on region.\n",
    "  - Allocate the sample proportionally to the size of each stratum.\n",
    "\n",
    "---\n",
    "\n",
    "### 2. Sample Size Calculation\n",
    "The proportion of each stratum is:\n",
    "- Urban: $ \\frac{4,000}{10,000} = 0.4 $\n",
    "- Suburban: $ \\frac{3,000}{10,000} = 0.3 $\n",
    "- Rural: $ \\frac{3,000}{10,000} = 0.3 $\n",
    "\n",
    "The sample sizes for each region are:\n",
    "- Urban: $ 500 \\cdot 0.4 = 200 $\n",
    "- Suburban: $ 500 \\cdot 0.3 = 150 $\n",
    "- Rural: $ 500 \\cdot 0.3 = 150 $\n"
   ]
  },
  {
   "cell_type": "markdown",
   "id": "ba9d8f8c-796b-4fb0-b97d-0492f63d0e46",
   "metadata": {},
   "source": [
    "## <font color='green'>Exercise 2: Addressing Real-World Challenges</font>\n",
    "\n",
    "### <font color='blue'>Problem</font>\n",
    "\n",
    "A company plans to survey 1,000 customers to evaluate satisfaction with their products. They face the following challenges:\n",
    "1. A limited budget allows only 800 responses.\n",
    "2. Customers in rural areas have low response rates.\n",
    "\n",
    "### Tasks:\n",
    "1. Propose a solution to address the budget constraint.\n",
    "2. Suggest a method to improve response rates in rural areas.\n",
    "\n",
    "---\n",
    "\n",
    "## <font color='green'>Solution</font>\n",
    "\n",
    "### 1. Budget Constraint\n",
    "**Solution**: Use systematic sampling to reduce the sample size while maintaining randomness.  \n",
    "- Select every $ k^{th} $ customer from a list of 10,000 customers:\n",
    "  - $ k = \\frac{10,000}{800} = 12.5 $ (round to the nearest integer, $ k = 12 $).\n",
    "  - Start from a random point and select every 12th customer.\n",
    "\n",
    "---\n",
    "\n",
    "### 2. Low Response Rates in Rural Areas\n",
    "**Solution**:\n",
    "- Use incentives (e.g., gift cards) to encourage participation.\n",
    "- Combine multiple modes of data collection (e.g., phone surveys and in-person interviews).\n",
    "- Adjust weights during analysis to correct for nonresponse bias.\n"
   ]
  },
  {
   "cell_type": "markdown",
   "id": "cbbabd67-6604-452b-b1e4-4711c18ad7a4",
   "metadata": {},
   "source": [
    "## <font color='green'>Exercise 3: Ethical Considerations</font>\n",
    "\n",
    "### <font color='blue'>Problem</font>\n",
    "\n",
    "A mental health survey collects data from students at a university. Researchers want to ensure ethical practices.\n",
    "\n",
    "### Tasks:\n",
    "1. List three ethical considerations the researchers should follow.\n",
    "2. Propose a method to protect the privacy of participants.\n",
    "\n",
    "---\n",
    "\n",
    "## <font color='green'>Solution</font>\n",
    "\n",
    "### 1. Ethical Considerations\n",
    "- **Informed Consent**: Ensure participants understand the purpose, procedures, and potential risks of the survey.\n",
    "- **Voluntary Participation**: Allow students to opt out at any time without penalty.\n",
    "- **Confidentiality**: Keep responses anonymous to avoid any negative consequences for participants.\n",
    "\n",
    "---\n",
    "\n",
    "### 2. Protecting Privacy\n",
    "**Solution**:\n",
    "- Use anonymous online surveys where participants cannot be identified.\n",
    "- Encrypt all data during storage and transmission.\n",
    "- Report results in aggregate form to prevent individual responses from being discerned.\n"
   ]
  },
  {
   "cell_type": "code",
   "execution_count": null,
   "id": "48b75356-bac3-417d-a396-6485119970d5",
   "metadata": {},
   "outputs": [],
   "source": []
  }
 ],
 "metadata": {
  "kernelspec": {
   "display_name": "Python 3 (ipykernel)",
   "language": "python",
   "name": "python3"
  },
  "language_info": {
   "codemirror_mode": {
    "name": "ipython",
    "version": 3
   },
   "file_extension": ".py",
   "mimetype": "text/x-python",
   "name": "python",
   "nbconvert_exporter": "python",
   "pygments_lexer": "ipython3",
   "version": "3.12.4"
  }
 },
 "nbformat": 4,
 "nbformat_minor": 5
}
