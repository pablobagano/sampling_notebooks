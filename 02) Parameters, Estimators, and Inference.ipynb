{
 "cells": [
  {
   "cell_type": "markdown",
   "id": "b32280cd-87e8-44c2-9c78-e5399aee80e5",
   "metadata": {},
   "source": [
    "# <font color='red'>Criteria for Designing a Sampling Plan</font> \n",
    "\n",
    "A well-designed sampling plan (delineamento amostral) is critical for ensuring that the data collected in a study can be reliably analyzed with appropriate statistical methods. This involves defining clear objectives, selecting suitable sampling methods, and understanding potential sources of error so that results are both valid and meaningful.\n"
   ]
  },
  {
   "cell_type": "markdown",
   "id": "6d84276c-4433-4353-92a1-515512c1717a",
   "metadata": {},
   "source": [
    "## <font color='red'>Defining the Sampling Design</font> \n",
    "\n",
    "The first step in creating a sampling plan is to set the study's objectives and choose how to select participants or units from the population. By doing so, it’s possible to:\n",
    "\n",
    "- Estimate experimental error.\n",
    "- Determine the best selection procedure for meaningful results.\n",
    "- Enhance the precision and reliability of the findings.\n",
    "\n",
    "Good domain knowledge (e.g., about the population’s characteristics or environmental conditions) helps guide the choice of sampling strategy and ensures the sample is representative.\n"
   ]
  },
  {
   "cell_type": "markdown",
   "id": "9eb8081d-ac8c-4c6a-b994-55534d944e5b",
   "metadata": {},
   "source": [
    "## <font color='red'>Probability Sampling Techniques</font> \n",
    "\n",
    "Probability sampling ensures each element of the population has a known, nonzero probability of selection. This framework allows for quantifying sampling error and making valid inferences.\n",
    "\n",
    "### 1. Simple Random Sampling (AAS)\n",
    "- Every unit has an equal probability of being chosen.\n",
    "- Straightforward method but may not always be the most efficient.\n",
    "\n",
    "### 2. Stratified Sampling (AE)\n",
    "- The population is divided into strata (e.g., by age or income level).\n",
    "- Independent random samples are drawn from each stratum.\n",
    "- Improves precision and ensures representation of key subgroups.\n",
    "\n",
    "### 3. Cluster (Conglomerate) Sampling\n",
    "- The population is divided into clusters (e.g., neighborhoods, schools).\n",
    "- A random selection of clusters is chosen, and then all or a subset of elements within those clusters are surveyed.\n",
    "- Useful for large or geographically dispersed populations.\n",
    "\n",
    "### 4. Systematic Sampling\n",
    "- Units are selected at regular intervals from an ordered list.\n",
    "- Often simpler to implement operationally, but care must be taken to avoid hidden patterns that could bias the sample.\n"
   ]
  },
  {
   "cell_type": "markdown",
   "id": "5d0804fb-ddb1-4742-b3cf-6a0826a16ae6",
   "metadata": {},
   "source": [
    "## <font color='red'> Sampling Error vs. Nonsampling Error</font> \n",
    "\n",
    "### Sampling Error\n",
    "- Occurs because only a portion of the population is measured.\n",
    "- Can be reduced by choosing more appropriate sampling methods, increasing sample size, or improving design quality.\n",
    "\n",
    "### Nonsampling Error\n",
    "- Arises from factors other than the sampling process (e.g., measurement errors, incorrect data, nonresponse).\n",
    "- Requires careful questionnaire design, data validation, and execution strategies.\n",
    "- More challenging to quantify and control, but crucial to address for data quality.\n"
   ]
  },
  {
   "cell_type": "markdown",
   "id": "fd3236a7-18a4-42b0-8110-7403acea2c5e",
   "metadata": {},
   "source": [
    "## <font color='red'>Unified Sampling Theory Concepts</font> \n",
    "\n",
    "The text introduces the idea that various sampling designs can be expressed in terms of probabilities over sets of samples. By assigning different probability distributions to different sample sets, one can create multiple “plans” that define how samples are selected and weighted.\n",
    "\n",
    "This framework:\n",
    "- Clarifies the relationships between sample selection probabilities and the resulting estimates.\n",
    "- Shows that there can be infinitely many sampling plans, each with its own probability structure and implications.\n"
   ]
  },
  {
   "cell_type": "markdown",
   "id": "1534d7be-e921-4bc7-a5ef-a811190b03a0",
   "metadata": {},
   "source": [
    "## <font color='red'>Unified Sampling Theory Concepts</font> \n",
    "\n",
    "Sampling theory can be understood in a unifying framework where each sampling design corresponds to a probability distribution over all possible subsets of the population. By defining a set of rules that determine which samples are more or less likely, we can compare and contrast different sampling plans in a common theoretical language.\n",
    "\n",
    "- **Foundational Idea:**  \n",
    "  Any sampling procedure can be viewed as assigning probabilities to every conceivable sample. For example, in Simple Random Sampling, each sample of a given size is equally likely; in Stratified Sampling, the probability structure is more complex due to partitioning the population into strata.\n",
    "\n",
    "- **Infinite Variety of Designs:**  \n",
    "  Because there are infinitely many ways to assign probabilities over the space of possible samples, the universe of potential sampling designs is vast. Each design has its own properties, trade-offs, and theoretical implications.\n",
    "\n",
    "- **Comparing Designs:**  \n",
    "  By expressing different sampling schemes as probability distributions, researchers can:\n",
    "  - Evaluate and compare efficiency, bias, and variance of estimators across designs.\n",
    "  - Identify which design best balances practical constraints (cost, time) with statistical rigor.\n",
    "  - Develop hybrid or more complex designs that combine desirable features of simpler methods.\n",
    "\n",
    "Understanding this unified perspective helps researchers move beyond ad-hoc approaches to sampling, enabling them to reason systematically about how changes in the selection process affect the quality and reliability of the resulting estimates.\n"
   ]
  },
  {
   "cell_type": "markdown",
   "id": "62cf8455-e6f1-4622-8e08-b3f680cbf49b",
   "metadata": {},
   "source": [
    "## <font color='red'>Parameters, Statistics, and Estimators</font> \n",
    "\n",
    "When dealing with statistical inference, parameters describe population-level characteristics, while statistics are computed from sample data. Estimators are the formulas or rules that use these sample-based statistics to infer the unknown parameters.\n",
    "\n",
    "### Population Parameters\n",
    "\n",
    "- **Population Mean (μ):**  \n",
    "  The average value of a characteristic across all \\(N\\) units in the population.  \n",
    "  $$\n",
    "  \\mu = \\frac{1}{N} \\sum_{i=1}^{N} y_i\n",
    "  $$\n",
    "  \n",
    "- **Population Total (T):**  \n",
    "  The sum of all values in the population.  \n",
    "  $$\n",
    "  T = \\sum_{i=1}^{N} y_i\n",
    "  $$\n",
    "\n",
    "- **Population Proportion (P):**  \n",
    "  The fraction of the population possessing a certain attribute, where \\( z_i \\) is an indicator variable (1 if the unit has the attribute, 0 otherwise).  \n",
    "  $$\n",
    "  P = \\frac{1}{N} \\sum_{i=1}^{N} z_i\n",
    "  $$\n",
    "\n",
    "- **Population Variance (σ²):**  \n",
    "  A measure of the spread of values around the mean:  \n",
    "  $$\n",
    "  \\sigma^2 = \\frac{1}{N} \\sum_{i=1}^{N} (y_i - \\mu)^2\n",
    "  $$\n",
    "\n",
    "### Sample Statistics\n",
    "\n",
    "When we observe a sample of \\(n\\) units from the population, we compute analogous quantities:\n",
    "\n",
    "- **Sample Mean ( \\(\\hat{\\mu}\\) or \\( \\bar{y} \\) ):**  \n",
    "  $$\n",
    "  \\bar{y} = \\frac{1}{n} \\sum_{j=1}^{n} y_j\n",
    "  $$\n",
    "  \n",
    "- **Sample Total ( \\(\\hat{T}\\) ):**  \n",
    "  $$\n",
    "  \\hat{T} = \\sum_{j=1}^{n} y_j\n",
    "  $$\n",
    "\n",
    "- **Sample Proportion ( \\(\\hat{P}\\) ):**  \n",
    "  $$\n",
    "  \\hat{P} = \\frac{1}{n} \\sum_{j=1}^{n} z_j\n",
    "  $$\n",
    "\n",
    "- **Sample Variance ( \\( s^2 \\) ):**  \n",
    "  $$\n",
    "  s^2 = \\frac{1}{n-1} \\sum_{j=1}^{n} (y_j - \\bar{y})^2\n",
    "  $$\n",
    "\n",
    "### Estimators\n",
    "\n",
    "Estimators are functions of the sample data that provide our “best guess” of the population parameters. For example, \\(\\bar{y}\\) is an estimator of \\(\\mu\\), and \\(\\hat{P}\\) is an estimator of \\(P\\).\n",
    "\n",
    "A “good” estimator has desirable theoretical properties:\n",
    "\n",
    "- **Unbiasedness:** The expected value of the estimator equals the true parameter.\n",
    "- **Consistency:** The estimator converges to the true parameter as \\( n \\to \\infty \\).\n",
    "- **Efficiency:** Among unbiased estimators, the one with the smallest variance is considered better.\n",
    "\n",
    "### Mean Squared Error (MSE)\n",
    "\n",
    "The MSE of an estimator \\(\\hat{\\theta}\\) for a parameter \\(\\theta\\) is defined as:\n",
    "$$\n",
    "\\text{MSE}(\\hat{\\theta}) = E[(\\hat{\\theta} - \\theta)^2] = \\text{Var}(\\hat{\\theta}) + [\\text{Bias}(\\hat{\\theta})]^2\n",
    "$$\n",
    "\n",
    "Minimizing MSE leads to more reliable estimations, balancing both the variance and the bias of the estimator.\n",
    "\n",
    "In summary, parameters characterize the unknown aspects of the full population, statistics summarize what we see in a sample, and estimators are the tools that let us use those statistics to infer the underlying population parameters.\n"
   ]
  },
  {
   "cell_type": "markdown",
   "id": "c4320033-6e68-4d3e-be1a-1dff3db71fd8",
   "metadata": {},
   "source": [
    "### <font color='green'>Exercise 1</font> \n",
    "\n",
    "Given a population of size \\(N\\), the population mean \\(\\mu\\) is defined as:\n",
    "$$\n",
    "\\mu = \\frac{1}{N}\\sum_{i=1}^{N}y_i\n",
    "$$\n",
    "\n",
    "If we draw a simple random sample of size \\(n\\) and compute the sample mean:\n",
    "$$\n",
    "\\bar{y} = \\frac{1}{n}\\sum_{j=1}^{n}y_j\n",
    "$$\n",
    "\n",
    "Which of the following statements is correct regarding \\(\\bar{y}\\) as an estimator of \\(\\mu\\)?\n",
    "\n",
    "A. $\\bar{y}$ is an unbiased estimator of $\\mu$.  \n",
    "B. $\\bar{y}$ is always greater than $\\mu$.  \n",
    "C. $\\bar{y}$ can never equal $\\mu$.  \n",
    "D. $\\bar{y}$ decreases as $n$ increases.\n"
   ]
  },
  {
   "cell_type": "markdown",
   "id": "236618b1-cb89-4b78-899e-272e239b51db",
   "metadata": {},
   "source": [
    "**Answer:** A\n",
    "\n",
    "**Explanation:**\n",
    "The sample mean is an unbiased estimator of the population mean:\n",
    "$$\n",
    "E(\\bar{y}) = \\mu.\n",
    "$$\n",
    "\n",
    "There’s no guarantee that $\\bar{y}$ is always greater than $\\mu$ or can never equal it, and it does not systematically decrease as $n$ increases. Instead, as $n$ grows, $\\bar{y}$ tends to get closer to $\\mu$, maintaining its unbiasedness.\n"
   ]
  },
  {
   "cell_type": "markdown",
   "id": "bcdcfe31-a76a-457a-b01d-761feb345314",
   "metadata": {},
   "source": [
    "### <font color='green'>Exercise 2</font> \n",
    "\n",
    "The population proportion \\( P \\) is:\n",
    "$$\n",
    "P = \\frac{1}{N}\\sum_{i=1}^{N}z_i\n",
    "$$\n",
    "\n",
    "If we take a random sample of size \\( n \\) and compute:\n",
    "$$\n",
    "\\hat{P} = \\frac{1}{n}\\sum_{j=1}^{n} z_j\n",
    "$$\n",
    "\n",
    "Which of the following is true?\n",
    "\n",
    "A. $\\hat{P}$ is an unbiased estimator of $P$.  \n",
    "B. $\\hat{P}$ has a positive bias.  \n",
    "C. $\\hat{P}$ is always equal to $P$.  \n",
    "D. $\\hat{P}$ decreases as $n$ increases.\n"
   ]
  },
  {
   "cell_type": "markdown",
   "id": "47f23c5e-1a39-42aa-8c15-e8453798a9f7",
   "metadata": {},
   "source": [
    "**Answer:** A\n",
    "\n",
    "**Explanation:**\n",
    "The expected value of \\(\\hat{P}\\) equals \\(P\\):\n",
    "$$\n",
    "E(\\hat{P}) = P.\n",
    "$$\n",
    "\n",
    "Thus, $\\hat{P}$ is an unbiased estimator. It does not always equal $P$ for any given sample, nor is it systematically larger, smaller, or dependent on $n$ in that manner.\n"
   ]
  },
  {
   "cell_type": "markdown",
   "id": "29eae668-fa15-4db1-9c68-9d54eabbfed9",
   "metadata": {},
   "source": [
    "### <font color='green'>Exercise 3</font> \n",
    "\n",
    "The mean squared error (MSE) of an estimator $\\hat{\\theta}$ for a parameter $\\theta$ is:\n",
    "$$\n",
    "\\text{MSE}(\\hat{\\theta}) = E[(\\hat{\\theta}-\\theta)^2] = \\text{Var}(\\hat{\\theta}) + [\\text{Bias}(\\hat{\\theta})]^2\n",
    "$$\n",
    "\n",
    "If an estimator has zero bias, which statement best describes how to minimize its MSE?\n",
    "\n",
    "A. Increase its bias.  \n",
    "B. Decrease its variance.  \n",
    "C. Increase the population size $N$.  \n",
    "D. Decrease the parameter $\\theta$.\n"
   ]
  },
  {
   "cell_type": "markdown",
   "id": "ead11128-1095-4deb-be66-e768a9110c72",
   "metadata": {},
   "source": [
    "**Answer:** B\n",
    "\n",
    "**Explanation:**\n",
    "If $\\text{Bias}(\\hat{\\theta})=0$, then:\n",
    "$$\n",
    "\\text{MSE}(\\hat{\\theta}) = \\text{Var}(\\hat{\\theta}).\n",
    "$$\n",
    "\n",
    "To minimize MSE, we must reduce the variance. Adjusting bias, population size, or parameter values does not directly address MSE in this scenario.\n"
   ]
  },
  {
   "cell_type": "markdown",
   "id": "8d975c77-3fd9-46b3-b1be-88778d4a0de6",
   "metadata": {},
   "source": [
    "### <font color='green'>Exercise 4</font>\n",
    "\n",
    "Consider two unbiased estimators for the same parameter $\\theta$. How would you choose the better one?\n",
    "\n",
    "A. Pick the estimator that is easier to compute.  \n",
    "B. Pick the estimator with the lower MSE.  \n",
    "C. Pick the estimator with fewer decimal places in its result.  \n",
    "D. Pick the estimator that depends on fewer sample values.\n"
   ]
  },
  {
   "cell_type": "markdown",
   "id": "19483869-cc4e-4ac0-a507-bba10c6d4077",
   "metadata": {},
   "source": [
    "**Answer:** B\n",
    "\n",
    "**Explanation:**\n",
    "For unbiased estimators, minimizing MSE reduces to minimizing variance since bias is zero. The estimator with the lower variance (and thus lower MSE) provides more precise and reliable estimates of \\(\\theta\\).\n"
   ]
  },
  {
   "cell_type": "code",
   "execution_count": null,
   "id": "911fc89c-db03-41e8-aa28-fe61d210f8a1",
   "metadata": {},
   "outputs": [],
   "source": []
  }
 ],
 "metadata": {
  "kernelspec": {
   "display_name": "Python 3 (ipykernel)",
   "language": "python",
   "name": "python3"
  },
  "language_info": {
   "codemirror_mode": {
    "name": "ipython",
    "version": 3
   },
   "file_extension": ".py",
   "mimetype": "text/x-python",
   "name": "python",
   "nbconvert_exporter": "python",
   "pygments_lexer": "ipython3",
   "version": "3.12.4"
  }
 },
 "nbformat": 4,
 "nbformat_minor": 5
}
