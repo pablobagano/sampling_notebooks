{
 "cells": [
  {
   "cell_type": "markdown",
   "id": "f3b6cfc7-8c58-4f10-abe2-4105a4813385",
   "metadata": {},
   "source": [
    "# <font color='red'>Chapter 8: Non-Probability Sampling</font>\n",
    "\n",
    "## <font color='green'>Introduction to Non-Probability Sampling</font>\n",
    "\n",
    "Non-probability sampling is a technique where samples are drawn from the population without relying on random selection. These methods are often used in exploratory research, pilot studies, or when probability sampling is not feasible due to constraints such as time, cost, or accessibility.\n",
    "\n",
    "Unlike probability sampling, these methods do not allow for precise calculation of sampling error, which can result in biased and unrepresentative findings. However, they are still widely used in fields such as market research, qualitative studies, and in situations where representativeness is not the primary concern.\n"
   ]
  },
  {
   "cell_type": "markdown",
   "id": "a6b896f3-51e7-4795-8041-89de061f5776",
   "metadata": {},
   "source": [
    "## <font color='red'>8.1 Types of Non-Probability Sampling</font>\n",
    "\n",
    "### <font color='green'>8.1.1 Convenience Sampling</font>\n",
    "- **Definition**: Selecting individuals who are easiest to access or are readily available.\n",
    "- **Example**: Surveying people in a shopping mall to understand consumer preferences.\n",
    "- **Advantages**:\n",
    "  - Quick and inexpensive.\n",
    "  - Useful for exploratory research.\n",
    "- **Disadvantages**:\n",
    "  - High risk of bias.\n",
    "  - Findings are not generalizable to the population.\n",
    "\n",
    "---\n",
    "\n",
    "### <font color='green'>8.1.2 Quota Sampling</font>\n",
    "- **Definition**: Dividing the population into categories (quotas) and sampling a specific number of participants from each category.\n",
    "- **Example**: Ensuring a survey includes 50% men and 50% women, regardless of how they are selected.\n",
    "- **Advantages**:\n",
    "  - Ensures representation of key groups.\n",
    "  - Allows for targeted research.\n",
    "- **Disadvantages**:\n",
    "  - Sampling within quotas is not random.\n",
    "  - Risk of selection bias.\n",
    "\n",
    "---\n",
    "\n",
    "### <font color='green'>8.1.3 Snowball Sampling</font>\n",
    "- **Definition**: Recruiting participants through referrals from initial subjects, often used for hard-to-reach populations.\n",
    "- **Example**: Identifying participants in a study on underground musicians through personal networks.\n",
    "- **Advantages**:\n",
    "  - Effective for niche or hidden populations.\n",
    "  - Builds trust among participants.\n",
    "- **Disadvantages**:\n",
    "  - Highly dependent on initial participants.\n",
    "  - May not be representative of the broader population.\n"
   ]
  },
  {
   "cell_type": "markdown",
   "id": "35ce9b1e-d728-4a24-a69b-05152a9502ac",
   "metadata": {},
   "source": [
    "## <font color='red'>8.2 Applications and Limitations</font>\n",
    "\n",
    "### <font color='green'>8.2.1 Applications</font>\n",
    "- **Exploratory Research**: Used when there is little prior information about the subject.\n",
    "- **Qualitative Studies**: Often employed in studies focusing on understanding behaviors, motivations, and experiences.\n",
    "- **Limited Resources**: Used when time or budget constraints make probability sampling impractical.\n",
    "\n",
    "---\n",
    "\n",
    "### <font color='green'>8.2.2 Limitations</font>\n",
    "- **Bias**: Non-random selection introduces bias, making it hard to generalize findings.\n",
    "- **Lack of Representativeness**: Results may not reflect the broader population.\n",
    "- **No Sampling Error Measurement**: It is impossible to quantify the error or confidence intervals associated with the results.\n"
   ]
  },
  {
   "cell_type": "markdown",
   "id": "f8759d38-8fdc-4bfa-ab90-2a0df5500988",
   "metadata": {},
   "source": [
    "## <font color='red'>8.3 Bias and Lack of Representativeness</font>\n",
    "\n",
    "Non-probability sampling methods are particularly vulnerable to bias. This bias arises from the non-random nature of the selection process, leading to overrepresentation or underrepresentation of certain groups. For example:\n",
    "- **Convenience Sampling**: May overrepresent people who are more available or willing to participate.\n",
    "- **Quota Sampling**: Relies heavily on the judgment of the researcher, which can skew results.\n",
    "- **Snowball Sampling**: Can lead to homogeneity in the sample, as participants refer others similar to themselves.\n",
    "\n",
    "Mitigating bias involves transparency in sampling methods and acknowledging limitations in study results. Researchers should be cautious about drawing broad conclusions from studies based on non-probability sampling.\n"
   ]
  },
  {
   "cell_type": "markdown",
   "id": "958afe0a-fb0c-4a5e-96a8-08b9446ca5ab",
   "metadata": {},
   "source": [
    "## <font color='red'>Conclusion</font>\n",
    "\n",
    "While non-probability sampling lacks the robustness of randomization, it serves an important role in research when resources are limited or when targeting specific populations. By understanding the strengths and limitations of these methods, researchers can use them effectively and appropriately.\n"
   ]
  },
  {
   "cell_type": "markdown",
   "id": "0406e562-bffa-4162-b59e-99d1e78c7ab6",
   "metadata": {},
   "source": [
    "# <font color='red'>Examples</font> "
   ]
  },
  {
   "cell_type": "markdown",
   "id": "b45f6b20-0609-4afd-80fc-1a7aa0b22f2a",
   "metadata": {},
   "source": [
    "## <font color='green'>Example 1: Convenience Sampling</font>\n",
    "\n",
    "### <font color='blue'>Problem</font>\n",
    "A researcher at a university wants to estimate the average number of hours students spend studying per week. They survey 20 students in the library. The results are as follows:  \n",
    "$ [15, 20, 18, 12, 16, 22, 14, 17, 19, 21, 13, 20, 18, 16, 15, 19, 14, 17, 21, 20] $\n",
    "\n",
    "### Tasks:\n",
    "1. Calculate the sample mean.\n",
    "2. Calculate the sample variance.\n",
    "\n",
    "---\n",
    "\n",
    "## <font color='green'>Solution</font>\n",
    "\n",
    "### 1. Sample Mean\n",
    "The sample mean is calculated as:  \n",
    "$$ \\bar{y} = \\frac{\\sum y_i}{n} $$  \n",
    "Substituting the values:  \n",
    "$$ \\bar{y} = \\frac{15 + 20 + 18 + ... + 20}{20} = 17.65 $$\n",
    "\n",
    "---\n",
    "\n",
    "### 2. Sample Variance\n",
    "The sample variance is calculated as:  \n",
    "$$ S^2 = \\frac{\\sum (y_i - \\bar{y})^2}{n - 1} $$  \n",
    "Substituting the values:  \n",
    "$$ S^2 = \\frac{(15 - 17.65)^2 + (20 - 17.65)^2 + ...}{19} = 6.72 $$\n"
   ]
  },
  {
   "cell_type": "markdown",
   "id": "e9dc9910-1775-432c-979f-c10753058f69",
   "metadata": {},
   "source": [
    "## <font color='green'>Example 2: Quota Sampling</font>\n",
    "\n",
    "### <font color='blue'>Problem</font>\n",
    "A marketing firm needs to survey 100 people, ensuring equal representation of gender. They decide on a quota of 50 men and 50 women. The results for weekly spending on groceries (in $) are:  \n",
    "- **Men**: $ [60, 65, 70, 55, 50, ..., 75] $ (mean = 62, variance = 20)  \n",
    "- **Women**: $ [80, 85, 78, 82, 77, ..., 88] $ (mean = 81, variance = 25)\n",
    "\n",
    "### Tasks:\n",
    "1. Calculate the overall mean spending.\n",
    "2. Calculate the overall variance.\n",
    "\n",
    "---\n",
    "\n",
    "## <font color='green'>Solution</font>\n",
    "\n",
    "### 1. Overall Mean\n",
    "The overall mean is calculated as:  \n",
    "$$ \\bar{y} = \\frac{n_1 \\cdot \\bar{y}_1 + n_2 \\cdot \\bar{y}_2}{n} $$  \n",
    "Substituting the values:  \n",
    "$$ \\bar{y} = \\frac{50 \\cdot 62 + 50 \\cdot 81}{100} = 71.5 $$\n",
    "\n",
    "---\n",
    "\n",
    "### 2. Overall Variance\n",
    "The overall variance is calculated as:  \n",
    "$$ S^2 = \\frac{n_1 \\cdot S_1^2 + n_2 \\cdot S_2^2}{n} $$  \n",
    "Substituting the values:  \n",
    "$$ S^2 = \\frac{50 \\cdot 20 + 50 \\cdot 25}{100} = 22.5 $$\n"
   ]
  },
  {
   "cell_type": "markdown",
   "id": "fefd78c9-3061-46aa-aefe-62423a35a5a4",
   "metadata": {},
   "source": [
    "## <font color='green'>Example 3: Snowball Sampling</font>\n",
    "\n",
    "### <font color='blue'>Problem</font>\n",
    "A researcher is studying a hidden population of freelancers in a city. They start with 5 known freelancers who each refer 2 others. The researcher records their weekly working hours:  \n",
    "$ [40, 35, 50, 45, 30, 42, 38, 48, 36, 41, 37, 49, 44, 39, 47] $\n",
    "\n",
    "### Tasks:\n",
    "1. Calculate the sample mean.\n",
    "2. Estimate the population total, assuming 500 freelancers in the city.\n",
    "\n",
    "---\n",
    "\n",
    "## <font color='green'>Solution</font>\n",
    "\n",
    "### 1. Sample Mean\n",
    "The sample mean is calculated as:  \n",
    "$$ \\bar{y} = \\frac{\\sum y_i}{n} $$  \n",
    "Substituting the values:  \n",
    "$$ \\bar{y} = \\frac{40 + 35 + ... + 47}{15} = 41.8 $$\n",
    "\n",
    "---\n",
    "\n",
    "### 2. Population Total\n",
    "The population total is estimated as:  \n",
    "$$ T = N \\cdot \\bar{y} $$  \n",
    "Substituting the values:  \n",
    "$$ T = 500 \\cdot 41.8 = 20,900 $$\n"
   ]
  },
  {
   "cell_type": "markdown",
   "id": "131607ff-6b54-41e5-8a78-36c7166112e1",
   "metadata": {},
   "source": [
    "# <font color='red'>Exercises</font> "
   ]
  },
  {
   "cell_type": "markdown",
   "id": "78fe1e67-e18f-43a8-8c53-67e38fa6c2ab",
   "metadata": {},
   "source": [
    "## <font color='green'>Exercise 1: Convenience Sampling</font>\n",
    "\n",
    "### <font color='blue'>Problem</font>\n",
    "\n",
    "A researcher at a shopping mall wants to understand the average amount customers spend in a single visit. They survey 20 customers at random times and record the following values (in $):  \n",
    "$ [25, 30, 45, 50, 20, 35, 40, 55, 60, 50, 30, 40, 35, 45, 60, 20, 25, 50, 40, 30] $\n",
    "\n",
    "### Tasks:\n",
    "1. Calculate the sample mean.\n",
    "2. Calculate the sample variance.\n",
    "\n",
    "---\n",
    "\n",
    "## <font color='green'>Exercise 1.2: Quota Sampling</font>\n",
    "\n",
    "### <font color='blue'>Problem</font>\n",
    "\n",
    "A company wants to survey 100 employees, ensuring proportional representation by department. The employee distribution is as follows:\n",
    "- **HR**: 20 employees (average satisfaction score = 8.2, variance = 0.5)\n",
    "- **IT**: 50 employees (average satisfaction score = 7.5, variance = 0.7)\n",
    "- **Sales**: 30 employees (average satisfaction score = 8.8, variance = 0.4)\n",
    "\n",
    "### Tasks:\n",
    "1. Calculate the overall average satisfaction score.\n",
    "2. Calculate the overall variance.\n"
   ]
  },
  {
   "cell_type": "code",
   "execution_count": 23,
   "id": "a183cc76-5e61-4b1e-9f03-4aa88c9092b0",
   "metadata": {},
   "outputs": [],
   "source": [
    "# Solution"
   ]
  },
  {
   "cell_type": "code",
   "execution_count": 25,
   "id": "1dd3b31f-00d7-41d7-a55b-b414a63e9647",
   "metadata": {},
   "outputs": [],
   "source": [
    "# Solution"
   ]
  },
  {
   "cell_type": "markdown",
   "id": "45b35abe-c788-4f2e-90f0-aefca8771efb",
   "metadata": {},
   "source": [
    "## <font color='green'>Exercise 3: Snowball Sampling</font>\n",
    "\n",
    "### <font color='blue'>Problem</font>\n",
    "\n",
    "A researcher is studying a hard-to-reach population of freelance writers. They start with 10 known writers, each referring 2 more writers. The researcher collects data on their weekly working hours:  \n",
    "$ [40, 35, 50, 45, 30, 42, 38, 48, 36, 41, 37, 49, 44, 39, 47, 43, 46, 34, 33, 45] $\n",
    "\n",
    "### Tasks:\n",
    "1. Calculate the sample mean.\n",
    "2. Estimate the total working hours for the entire population, assuming there are 500 freelance writers in the city.\n"
   ]
  },
  {
   "cell_type": "code",
   "execution_count": null,
   "id": "d8b72ad5-c025-4e94-83c9-aa5be186ce02",
   "metadata": {},
   "outputs": [],
   "source": []
  }
 ],
 "metadata": {
  "kernelspec": {
   "display_name": "Python 3 (ipykernel)",
   "language": "python",
   "name": "python3"
  },
  "language_info": {
   "codemirror_mode": {
    "name": "ipython",
    "version": 3
   },
   "file_extension": ".py",
   "mimetype": "text/x-python",
   "name": "python",
   "nbconvert_exporter": "python",
   "pygments_lexer": "ipython3",
   "version": "3.12.4"
  }
 },
 "nbformat": 4,
 "nbformat_minor": 5
}
