{
 "cells": [
  {
   "cell_type": "markdown",
   "id": "b93dcc1b-7ce8-4014-81ec-359e03c55574",
   "metadata": {},
   "source": [
    "# <font color='red'>Chapter 5: Systematic Sampling</font>\n",
    "\n",
    "## <font color='green'>5.1 Introduction to Systematic Sampling</font>\n",
    "\n",
    "Systematic sampling is a method where elements are selected from the population at regular intervals, known as the **sampling interval**. This technique is especially useful when the population is large, and creating a random list for sampling is impractical.\n",
    "\n",
    "### Key Characteristics:\n",
    "- The population is arranged in an **ordered list**.\n",
    "- A **random starting point** is selected.\n",
    "- Every $ k^{th} $ element is included in the sample, where $ k $ is the sampling interval.\n"
   ]
  },
  {
   "cell_type": "markdown",
   "id": "53ec14d4-218a-4dc2-b4a7-5e0fd3acd41e",
   "metadata": {},
   "source": [
    "## <font color='green'>5.2 Sampling Interval ($ k $)</font>\n",
    "\n",
    "### Formula:\n",
    "The sampling interval, $ k $, is calculated as:\n",
    "$$\n",
    "k = \\frac{N}{n}\n",
    "$$\n",
    "Where:\n",
    "- $ N $: Total population size.\n",
    "- $ n $: Desired sample size.\n"
   ]
  },
  {
   "cell_type": "code",
   "execution_count": 9,
   "id": "6ff578d1-cd75-472c-8181-0c371731e617",
   "metadata": {},
   "outputs": [
    {
     "name": "stdout",
     "output_type": "stream",
     "text": [
      "  Selected Employees\n",
      "0         Employee_2\n",
      "1        Employee_12\n",
      "2        Employee_22\n",
      "3        Employee_32\n",
      "4        Employee_42\n",
      "5        Employee_52\n",
      "6        Employee_62\n",
      "7        Employee_72\n",
      "8        Employee_82\n",
      "9        Employee_92\n"
     ]
    }
   ],
   "source": [
    "import pandas as pd\n",
    "\n",
    "# Example population: List of 100 employees\n",
    "population = [f\"Employee_{i}\" for i in range(1, 101)]\n",
    "\n",
    "# Step 1: Define population size (N) and desired sample size (n)\n",
    "N = len(population)  # Total population size\n",
    "n = 10               # Desired sample size\n",
    "\n",
    "# Step 2: Calculate sampling interval (k)\n",
    "k = N // n\n",
    "\n",
    "# Step 3: Select a random starting point (r)\n",
    "import random\n",
    "random.seed(42)  # For reproducibility\n",
    "r = random.randint(1, k)\n",
    "\n",
    "# Step 4: Generate the systematic sample\n",
    "systematic_sample = [population[i] for i in range(r - 1, N, k)]\n",
    "\n",
    "# Step 5: Output the selected sample\n",
    "sample_df = pd.DataFrame(systematic_sample, columns=[\"Selected Employees\"])\n",
    "print(sample_df)"
   ]
  },
  {
   "cell_type": "markdown",
   "id": "d0fd3399-584b-49dd-a099-01b6965f5e67",
   "metadata": {},
   "source": [
    "## <font color='green'>5.3 Steps in Systematic Sampling</font>\n",
    "\n",
    "1. **Determine the Population Size** ($ N $): Count the total number of elements in the population.  \n",
    "2. **Decide the Sample Size** ($ n $): Determine how many elements you need in your sample.  \n",
    "3. **Calculate the Sampling Interval** ($ k $): Use the formula $ k = \\frac{N}{n} $.  \n",
    "4. **Select a Random Starting Point** ($ r $): Choose a random integer between 1 and $ k $.  \n",
    "5. **Select Every $ k^{th} $ Element**: Start from $ r $ and include every $ k^{th} $ element until the sample size is met.\n"
   ]
  },
  {
   "cell_type": "markdown",
   "id": "e1de4cbd-8aae-4590-acb0-d31f92e23286",
   "metadata": {},
   "source": [
    "## <font color='green'>5.4 Advantages and Limitations</font>\n",
    "\n",
    "### Advantages:\n",
    "- **Simple and Quick**: Easy to implement compared to random sampling.  \n",
    "- **Ensures Representation**: Useful when the population is evenly distributed.\n",
    "\n",
    "### Limitations:\n",
    "- **Risk of Bias**: If the population has a periodic pattern that aligns with the sampling interval, the sample may not be representative.  \n",
    "- **Requires a Complete List**: The population must be fully listed and accessible.\n"
   ]
  },
  {
   "cell_type": "markdown",
   "id": "c5cd5fa8-2315-4ade-a990-11de321d2fcf",
   "metadata": {},
   "source": [
    "## <font color='green'>5.5 Estimation in Systematic Sampling</font>\n",
    "\n",
    "Systematic sampling allows for the estimation of the population **mean** and **total**, similar to simple random sampling.\n",
    "\n",
    "### Estimator for the Mean:\n",
    "$$\n",
    "\\bar{y} = \\frac{\\sum_{i=1}^n y_i}{n}\n",
    "$$\n",
    "Where:\n",
    "- $ \\bar{y} $: Sample mean.\n",
    "- $ y_i $: Value of the $ i^{th} $ element in the sample.\n",
    "- $ n $: Sample size.\n",
    "\n",
    "### Estimator for the Total:\n",
    "$$\n",
    "\\hat{T} = N \\cdot \\bar{y}\n",
    "$$\n",
    "Where:\n",
    "- $ \\hat{T} $: Estimated population total.\n",
    "- $ N $: Population size.\n",
    "\n",
    "### Variance of the Mean:\n",
    "In systematic sampling, the variance of the mean is similar to random sampling:\n",
    "$$\n",
    "\\text{Var}(\\bar{y}) = \\frac{S^2}{n}\n",
    "$$\n",
    "Where:\n",
    "- $ S^2 $: Population variance.\n"
   ]
  },
  {
   "cell_type": "markdown",
   "id": "4571d60d-6967-4a90-bd0c-517676a4c1e9",
   "metadata": {},
   "source": [
    "## <font color='green'>5.6 Confidence Intervals</font>\n",
    "\n",
    "### Confidence Interval for the Mean:\n",
    "$$\n",
    "CI = \\bar{y} \\pm Z \\cdot \\sqrt{\\frac{S^2}{n}}\n",
    "$$\n",
    "Where:\n",
    "- $ Z $: Z-score for the desired confidence level (e.g., 1.96 for 95%).\n",
    "\n",
    "### Confidence Interval for the Total:\n",
    "$$\n",
    "CI = \\hat{T} \\pm Z \\cdot N \\cdot \\sqrt{\\frac{S^2}{n}}\n",
    "$$\n"
   ]
  },
  {
   "cell_type": "code",
   "execution_count": 26,
   "id": "4f388112-3fb5-43dd-ae20-98a11bc305a4",
   "metadata": {},
   "outputs": [
    {
     "name": "stdout",
     "output_type": "stream",
     "text": [
      "Sample Mean: 75\n",
      "Confidence Interval: [74.24, 75.76]\n"
     ]
    }
   ],
   "source": [
    "import math\n",
    "\n",
    "# Step 1: Define the variables\n",
    "sample_mean = 75           # Sample mean (𝑦̄)\n",
    "population_variance = 1.5  # Population variance (S²)\n",
    "sample_size = 10           # Sample size (n)\n",
    "confidence_level = 0.95    # Confidence level (e.g., 95%)\n",
    "\n",
    "# Step 2: Calculate the standard error (SE)\n",
    "standard_error = math.sqrt(population_variance / sample_size)\n",
    "\n",
    "# Step 3: Determine the Z-score for the confidence level\n",
    "# For 95% confidence level, Z ≈ 1.96\n",
    "from scipy.stats import norm\n",
    "z_score = norm.ppf((1 + confidence_level) / 2)\n",
    "\n",
    "# Step 4: Calculate the margin of error (ME)\n",
    "margin_of_error = z_score * standard_error\n",
    "\n",
    "# Step 5: Compute the confidence interval\n",
    "lower_bound = sample_mean - margin_of_error\n",
    "upper_bound = sample_mean + margin_of_error\n",
    "\n",
    "# Step 6: Display the results\n",
    "print(f\"Sample Mean: {sample_mean}\")\n",
    "print(f\"Confidence Interval: [{lower_bound:.2f}, {upper_bound:.2f}]\")"
   ]
  },
  {
   "cell_type": "markdown",
   "id": "72c68a08-5386-474e-afb5-263da60bf93a",
   "metadata": {},
   "source": [
    "## <font color='green'>Alternative Method for Confidence Intervals</font>\n",
    "\n",
    "Instead of manually calculating the confidence interval using the formula:\n",
    "$$\n",
    "CI = \\bar{y} \\pm Z \\cdot \\text{SE}\n",
    "$$\n",
    "You can use the `norm.interval` function from the **`scipy.stats`** module for a more concise approach.\n",
    "\n",
    "---\n",
    "\n",
    "### **How to Use:**\n",
    "\n",
    "```python\n",
    "from scipy.stats import norm\n",
    "\n",
    "# Parameters\n",
    "confidence_level = 0.95      # Confidence level (e.g., 95%)\n",
    "population_variance = 1.5  # Population variance (S²)\n",
    "sample_size = 10           # Sample size (n)\n",
    "sample_mean = 75             # Sample mean (𝑦̄)\n",
    "standard_error = math.sqrt(population_variance / sample_size)       # Standard error (SE)\n",
    "\n",
    "# Calculate confidence interval\n",
    "lower_bound, upper_bound = norm.interval(confidence=confidence_level, loc=sample_mean, scale=standard_error)\n",
    "\n",
    "print(f\"Confidence Interval: [{lower_bound:.2f}, {upper_bound:.2f}]\")\n"
   ]
  },
  {
   "cell_type": "code",
   "execution_count": 13,
   "id": "e84922f0-dd5e-4234-8383-08ea8b4bf9b9",
   "metadata": {},
   "outputs": [],
   "source": [
    "from scipy.stats import norm"
   ]
  },
  {
   "cell_type": "code",
   "execution_count": 23,
   "id": "e30f3b99-fbd5-47e5-b78b-e16dda65cea7",
   "metadata": {},
   "outputs": [
    {
     "name": "stdout",
     "output_type": "stream",
     "text": [
      "Confidence Interval: [74.24, 75.76]\n"
     ]
    }
   ],
   "source": [
    "lower_bound, upper_bound = norm.interval(confidence=confidence_level, loc=sample_mean, scale=standard_error)\n",
    "print(f\"Confidence Interval: [{lower_bound:.2f}, {upper_bound:.2f}]\")"
   ]
  },
  {
   "cell_type": "markdown",
   "id": "48ef68d6-ae48-4c09-8a6e-8a207265039d",
   "metadata": {},
   "source": [
    "# <font color='red'>Solved problems</font>  "
   ]
  },
  {
   "cell_type": "markdown",
   "id": "a9c4dbe6-33d1-465e-be1f-f135b6193636",
   "metadata": {},
   "source": [
    "## <font color='green'>Problem 1: Selecting a Systematic Sample</font>\n",
    "\n",
    "### <font color='green'>Problem Statement:</font>\n",
    "A company has 120 employees, and a survey needs to select 12 employees using systematic sampling.\n",
    "\n",
    "- Population size ($ N $): 120  \n",
    "- Sample size ($ n $): 12  \n",
    "\n",
    "**Steps:**\n",
    "1. Calculate the sampling interval ($ k $).  \n",
    "2. Select a random starting point ($ r $).  \n",
    "3. Select every $ k^{th} $ employee to form the sample.\n"
   ]
  },
  {
   "cell_type": "code",
   "execution_count": 35,
   "id": "970cee8b-8212-47e0-8346-46ef87ccd164",
   "metadata": {},
   "outputs": [
    {
     "name": "stdout",
     "output_type": "stream",
     "text": [
      "   Selected Employees\n",
      "0          Employee_2\n",
      "1         Employee_12\n",
      "2         Employee_22\n",
      "3         Employee_32\n",
      "4         Employee_42\n",
      "5         Employee_52\n",
      "6         Employee_62\n",
      "7         Employee_72\n",
      "8         Employee_82\n",
      "9         Employee_92\n",
      "10       Employee_102\n",
      "11       Employee_112\n"
     ]
    }
   ],
   "source": [
    "# Step 1: Define the population\n",
    "population = [f\"Employee_{i}\" for i in range(1, 121)]  # Employees 1 to 120\n",
    "\n",
    "# Step 2: Define parameters\n",
    "N = len(population)  # Total population size\n",
    "n = 12               # Desired sample size\n",
    "k = N // n           # Sampling interval\n",
    "random.seed(42)      # For reproducibility\n",
    "r = random.randint(1, k)  # Random starting point\n",
    "\n",
    "# Step 3: Generate the systematic sample\n",
    "systematic_sample = [population[i] for i in range(r - 1, N, k)]\n",
    "\n",
    "# Output the sample\n",
    "sample_df = pd.DataFrame(systematic_sample, columns=[\"Selected Employees\"])\n",
    "print(sample_df)\n"
   ]
  },
  {
   "cell_type": "markdown",
   "id": "dd12af5e-a567-4603-a787-ccb97446a929",
   "metadata": {},
   "source": [
    "## <font color='green'>Problem 2: Estimating the Population Mean</font>\n",
    "\n",
    "### <font color='green'>Problem Statement:</font>\n",
    "A systematic sample of size $ n = 10 $ is drawn from a population of size $ N = 100 $. The sample consists of the following values:\n",
    "\n",
    "$$\n",
    "[45, 50, 55, 40, 60, 70, 65, 55, 50, 60]\n",
    "$$\n",
    "\n",
    "Estimate:\n",
    "1. The population mean ($ \\bar{y} $).  \n",
    "2. The population total ($ \\hat{T} $).  \n"
   ]
  },
  {
   "cell_type": "code",
   "execution_count": 38,
   "id": "3c8e112a-a6cb-4def-a8a2-682f13d1b0c6",
   "metadata": {},
   "outputs": [
    {
     "name": "stdout",
     "output_type": "stream",
     "text": [
      "Sample Mean (ȳ): 55.00\n",
      "Estimated Population Total (T̂): 5500.00\n"
     ]
    }
   ],
   "source": [
    "# Step 1: Define the sample data\n",
    "sample_data = [45, 50, 55, 40, 60, 70, 65, 55, 50, 60]\n",
    "sample_size = len(sample_data)\n",
    "population_size = 100\n",
    "\n",
    "# Step 2: Calculate the sample mean (ȳ)\n",
    "sample_mean = sum(sample_data) / sample_size\n",
    "\n",
    "# Step 3: Estimate the population total (T̂)\n",
    "population_total = population_size * sample_mean\n",
    "\n",
    "# Output results\n",
    "print(f\"Sample Mean (ȳ): {sample_mean:.2f}\")\n",
    "print(f\"Estimated Population Total (T̂): {population_total:.2f}\")\n"
   ]
  },
  {
   "cell_type": "markdown",
   "id": "529e3641-661d-47d6-85b5-c82b82cb0628",
   "metadata": {},
   "source": [
    "## <font color='green'>Problem 3: Confidence Interval for the Mean</font>\n",
    "\n",
    "### <font color='green'>Problem Statement:</font>\n",
    "Using the sample data from **Problem 2**, construct a 95% confidence interval for the population mean. Assume the population variance is $ S^2 = 200 $.\n",
    "\n",
    "**Steps:**\n",
    "1. Calculate the standard error (SE).  \n",
    "2. Use the Z-score for 95% confidence ($ Z = 1.96 $).  \n",
    "3. Construct the confidence interval.\n"
   ]
  },
  {
   "cell_type": "code",
   "execution_count": 42,
   "id": "47ded977-a51c-4581-9aae-92dc05967266",
   "metadata": {},
   "outputs": [
    {
     "name": "stdout",
     "output_type": "stream",
     "text": [
      "Sample Mean (ȳ): 55.00\n",
      "Confidence Interval: [46.23, 63.77]\n"
     ]
    }
   ],
   "source": [
    "# Step 1: Define the known parameters\n",
    "population_variance = 200  # S²\n",
    "confidence_level = 0.95\n",
    "z_score = norm.ppf((1 + confidence_level) / 2)\n",
    "\n",
    "# Step 2: Calculate the standard error (SE)\n",
    "standard_error = math.sqrt(population_variance / sample_size)\n",
    "\n",
    "# Step 3: Calculate the confidence interval\n",
    "lower_bound, upper_bound = norm.interval(\n",
    "    confidence=confidence_level, loc=sample_mean, scale=standard_error\n",
    ")\n",
    "\n",
    "# Output the results\n",
    "print(f\"Sample Mean (ȳ): {sample_mean:.2f}\")\n",
    "print(f\"Confidence Interval: [{lower_bound:.2f}, {upper_bound:.2f}]\")\n"
   ]
  },
  {
   "cell_type": "markdown",
   "id": "a5361c64-efef-44e3-8b33-ff82816511de",
   "metadata": {},
   "source": [
    "# <font color='red'>Exercises</font>\n",
    "\n",
    "### Practice what you've learned with the exercises below "
   ]
  },
  {
   "cell_type": "markdown",
   "id": "48dfe343-918d-4db3-be33-8a636ec96f25",
   "metadata": {},
   "source": [
    "## <font color='green'>Exercise 1: Systematic Sampling</font>\n",
    "\n",
    "### <font color='green'>Problem Statement:</font>\n",
    "A population of 500 households is being surveyed to assess energy consumption patterns. You need to select a systematic sample of 50 households.\n",
    "\n",
    "**Tasks:**\n",
    "1. Calculate the sampling interval ($ k $).  \n",
    "2. Select a random starting point ($ r $).  \n",
    "3. Identify the households included in the sample.  \n",
    "\n",
    "---\n",
    "\n",
    "### **Hints:**\n",
    "- Use the formula $ k = \\frac{N}{n} $ to find the sampling interval.  \n",
    "- Choose a random starting point $ r $ between 1 and $ k $.  \n",
    "- Select every $ k^{th} $ household starting from $ r $.  \n"
   ]
  },
  {
   "cell_type": "code",
   "execution_count": 49,
   "id": "85436889-b3d9-49c4-904b-13f434e5b592",
   "metadata": {},
   "outputs": [],
   "source": [
    "# Solution "
   ]
  },
  {
   "cell_type": "markdown",
   "id": "d7f4695f-3528-4d8f-bad2-aa012bd0318d",
   "metadata": {},
   "source": [
    "## <font color='green'>Exercise 2: Population Mean and Total</font>\n",
    "\n",
    "### <font color='green'>Problem Statement:</font>\n",
    "A systematic sample of size $ n = 15 $ is selected from a population of size $ N = 150 $. The observed sample values (in dollars) are:\n",
    "\n",
    "$$\n",
    "[100, 120, 110, 130, 140, 150, 125, 135, 145, 155, 115, 105, 95, 125, 135]\n",
    "$$\n",
    "\n",
    "**Tasks:**\n",
    "1. Calculate the sample mean ($ \\bar{y} $).  \n",
    "2. Estimate the total population value ($ \\hat{T} $).  \n",
    "\n",
    "---\n",
    "\n",
    "### **Hints:**\n",
    "- Use the formula for the sample mean:\n",
    "$$\n",
    "\\bar{y} = \\frac{\\sum y_i}{n}\n",
    "$$\n",
    "- Use the formula for the population total:\n",
    "$$\n",
    "\\hat{T} = N \\cdot \\bar{y}\n",
    "$$\n"
   ]
  },
  {
   "cell_type": "code",
   "execution_count": null,
   "id": "d4b002cc-ded1-45e7-a6c9-17152ef73878",
   "metadata": {},
   "outputs": [],
   "source": [
    "# Solution"
   ]
  },
  {
   "cell_type": "markdown",
   "id": "5e450054-9cd1-4df8-83e6-90b494d6ab4a",
   "metadata": {},
   "source": [
    "## <font color='green'>Exercise 3: Confidence Interval for the Mean</font>\n",
    "\n",
    "### <font color='green'>Problem Statement:</font>\n",
    "You have the following data:\n",
    "- Sample size: $ n = 20 $  \n",
    "- Sample mean: $ \\bar{y} = 70 $  \n",
    "- Population variance: $ S^2 = 250 $  \n",
    "- Confidence level: 95% ($ Z = 1.96 $)  \n",
    "\n",
    "**Tasks:**\n",
    "1. Calculate the standard error ($ SE $).  \n",
    "2. Construct the 95% confidence interval for the population mean.  \n",
    "\n",
    "---\n",
    "\n",
    "### **Hints:**\n",
    "- Use the formula for standard error:\n",
    "$$\n",
    "SE = \\sqrt{\\frac{S^2}{n}}\n",
    "$$\n",
    "- Use the formula for confidence interval:\n",
    "$$\n",
    "CI = \\bar{y} \\pm Z \\cdot SE\n",
    "$$\n"
   ]
  },
  {
   "cell_type": "code",
   "execution_count": 53,
   "id": "159d0d1f-140c-4b5e-bca4-1f1d07952810",
   "metadata": {},
   "outputs": [],
   "source": [
    "# Solution "
   ]
  },
  {
   "cell_type": "code",
   "execution_count": null,
   "id": "6d69dce5-9b1f-4170-a97a-39ed370a22cf",
   "metadata": {},
   "outputs": [],
   "source": []
  }
 ],
 "metadata": {
  "kernelspec": {
   "display_name": "Python 3 (ipykernel)",
   "language": "python",
   "name": "python3"
  },
  "language_info": {
   "codemirror_mode": {
    "name": "ipython",
    "version": 3
   },
   "file_extension": ".py",
   "mimetype": "text/x-python",
   "name": "python",
   "nbconvert_exporter": "python",
   "pygments_lexer": "ipython3",
   "version": "3.12.4"
  }
 },
 "nbformat": 4,
 "nbformat_minor": 5
}
